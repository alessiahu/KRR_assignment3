{
  "cells": [
    {
      "cell_type": "markdown",
      "metadata": {
        "id": "JHVNbkcJxUZA"
      },
      "source": [
        "# Homework assignment 3\n",
        "\n",
        "### Student 1\n",
        "- Name: Chrysoula Pozrikidou\n",
        "- Student ID: 14609797\n",
        "\n",
        "### Student 2\n",
        "- Name: [[FILL IN YOUR NAME HERE]]\n",
        "- Student ID: [[FILL IN YOUR STUDENT ID HERE]]"
      ]
    },
    {
      "cell_type": "markdown",
      "metadata": {
        "id": "F-iFkk0mxUZC"
      },
      "source": [
        "## 1. Instructions\n",
        "\n",
        "Fill in your name(s) and student ID(s) in the cell above. If you work alone, you may remove the part about \"Student 2\".\n",
        "\n",
        "Then finish this notebook by writing an ASP encoding of a planning problem. Details about the planning problem and more detailed instructions for what to do can be found below."
      ]
    },
    {
      "cell_type": "markdown",
      "metadata": {
        "id": "bqFw45gixUZD"
      },
      "source": [
        "## 2. The problem\n",
        "\n",
        "In this homework assignment, you will write an ASP program to solve the\n",
        "following (toy) planning problem.\n",
        "This problem is about finding a way to deliver some packages from warehouses\n",
        "to specified delivery locations, using several (electric) trucks.\n",
        "\n",
        "The problem works in time steps. At each time step, each truck can perform exactly\n",
        "one action—move to an adjacent node, wait, (un)load a package, and so on (more details below).\n",
        "The problem operates on a map that consists of a graph with nodes and edges.\n",
        "All nodes and edges are single capacity, meaning that only a single truck can be on a node or travel on an edge at each time step.\n",
        "The task is to find a plan (a sequence of actions, one per truck per time step)\n",
        "after which the goal state is achieved: all packages are delivered, the trucks are empty (i.e., without packages) and are located on a charging spot.\n",
        "\n",
        "### The initial state\n",
        "\n",
        "The initial state of the world consists of:\n",
        "- a road network in the form of an undirected graph;\n",
        "- the location (on the network) and initial load (number of available packages) of one or more warehouses;\n",
        "- the location (on the network) and initial demand (number of packages to be delivered) of one or more delivery locations;\n",
        "- the location (on the network) of one or more charging points; and\n",
        "- the initial location, the initial load (how many packages aboard), the maximum load capacity, the initial battery level, and the maximum battery level of one or more trucks.\n",
        "\n",
        "(These are all given as part of the input.)\n",
        "\n",
        "### The actions (and their conditions and effects)\n",
        "\n",
        "At each time step, each truck performs exactly one of the following actions:\n",
        "- It can **wait**—the truck stays in the current location, the battery level stays the same.\n",
        "- It can **move** to an adjacent node—the battery level goes down by 1 unit.\n",
        "- If it is at a warehouse, the warehouse is not empty, and the truck still has capacity, it can **load** one single package from the warehouse into the truck—the battery level stays the same.\n",
        "- If it is at a delivery location that still needs some packages, and the truck has at least one package, it can **unload** one single package at the delivery location—the battery level stays the same.\n",
        "- If it is at a charging station, and the battery is not at full capacity, it can **charge**—the battery level increases by 1 unit.\n",
        "\n",
        "The following additional restrictions have to be taken into account:\n",
        "- If the battery level of a truck is 0, it cannot move to another node.\n",
        "- At each location, there can be at most one truck at the same time.\n",
        "- Trucks cannot pass each other on a piece of road—e.g., trucks at adjacent locations cannot swap places in a single time step.\n",
        "\n",
        "### The goal\n",
        "\n",
        "The goal is to achieve a state that has all of the following properties:\n",
        "- All required deliveries must have been performed.\n",
        "- Each truck has no packages aboard.\n",
        "- Each truck is located at a charging station.\n",
        "\n",
        "### The task\n",
        "\n",
        "Finish this notebook by encoding this problem into ASP.\n",
        "Make sure that your encoding works for any given input (that is of the right format).\n",
        "That is, for each input, your code constructs an answer set program\n",
        "whose answer sets correspond to the (shortest) sequences\n",
        "of actions that achieve the goal from the initial state of the world—if the goal state can be reached within a given maximum number of steps."
      ]
    },
    {
      "cell_type": "markdown",
      "metadata": {
        "id": "W4NPlk0FxUZG"
      },
      "source": [
        "## 3. Setting up\n",
        "We begin with setting up and importing some relevant things."
      ]
    },
    {
      "cell_type": "code",
      "source": [
        "#This cell was created to run on colab, uncomment if needed\n",
        "#!pip install clingo"
      ],
      "metadata": {
        "colab": {
          "base_uri": "https://localhost:8080/"
        },
        "id": "a1PSqN3JOCnW",
        "outputId": "1d490354-2470-4a88-88d1-4298947331f8"
      },
      "execution_count": 1,
      "outputs": [
        {
          "output_type": "stream",
          "name": "stdout",
          "text": [
            "Looking in indexes: https://pypi.org/simple, https://us-python.pkg.dev/colab-wheels/public/simple/\n",
            "Collecting clingo\n",
            "  Downloading clingo-5.6.2-cp39-cp39-manylinux_2_17_x86_64.manylinux2014_x86_64.whl (2.2 MB)\n",
            "\u001b[2K     \u001b[90m━━━━━━━━━━━━━━━━━━━━━━━━━━━━━━━━━━━━━━━━\u001b[0m \u001b[32m2.2/2.2 MB\u001b[0m \u001b[31m23.3 MB/s\u001b[0m eta \u001b[36m0:00:00\u001b[0m\n",
            "\u001b[?25hRequirement already satisfied: cffi in /usr/local/lib/python3.9/dist-packages (from clingo) (1.15.1)\n",
            "Requirement already satisfied: pycparser in /usr/local/lib/python3.9/dist-packages (from cffi->clingo) (2.21)\n",
            "Installing collected packages: clingo\n",
            "Successfully installed clingo-5.6.2\n"
          ]
        }
      ]
    },
    {
      "cell_type": "code",
      "execution_count": 2,
      "metadata": {
        "id": "vwZnC7O1xUZG"
      },
      "outputs": [],
      "source": [
        "### DO NOT CHANGE THIS CELL\n",
        "\n",
        "%matplotlib inline\n",
        "import networkx as nx\n",
        "import matplotlib.pyplot as plt\n",
        "\n",
        "import clingo\n",
        "from IPython.display import clear_output"
      ]
    },
    {
      "cell_type": "markdown",
      "metadata": {
        "id": "GzdydRZ_xUZI"
      },
      "source": [
        "## 4. Input\n",
        "As input for our planning problem, we get a road network in the form of an undirected graph, specified as:\n",
        "- a list of nodes\n",
        "- a list of pairs of nodes, specifying the edges of the graph (these are to be interpreted as undirected)\n",
        "\n",
        "Additionally, we get:\n",
        "- a list of dictionaries specifying the factories (with their location on the graph and initial load)\n",
        "- a list of dictionaries specifying the delivery points (with their location and initial demand)\n",
        "- a list of dictionaries specifying the charging points (with their location)\n",
        "- a list of dictionaries specifying the trucks, with:\n",
        "  * their initial location\n",
        "  * their initial load\n",
        "  * their (load) capacity\n",
        "  * their initial charge level\n",
        "  * their maximum charge capacity\n",
        "\n",
        "(See the example input below for the exact format of these dictionaries.)\n",
        "\n",
        "Moreover, as part of the input, we get a maximum number of time steps, within which the goal should be reached.\n",
        "\n",
        "### Example input"
      ]
    },
    {
      "cell_type": "code",
      "execution_count": 3,
      "metadata": {
        "id": "Wj63Xkq0xUZI"
      },
      "outputs": [],
      "source": [
        "### YOU MAY CHANGE THIS CELL TO TEST YOUR SOLUTION ON DIFFERENT INPUTS\n",
        "\n",
        "nodes = list(range(1, 6+1))\n",
        "edges = [\n",
        "    (1,2),\n",
        "    (2,3),\n",
        "    (3,4),\n",
        "    (4,5),\n",
        "    (2,6),\n",
        "    (3,6),\n",
        "]\n",
        "factories = [\n",
        "    {\n",
        "        'location': 1,\n",
        "        'load': 10,\n",
        "    },\n",
        "]\n",
        "delivery_points = [\n",
        "    {\n",
        "        'location': 4,\n",
        "        'demand': 2,\n",
        "    },\n",
        "    {\n",
        "        'location': 5,\n",
        "        'demand': 2,\n",
        "    },\n",
        "]\n",
        "charging_points = [\n",
        "    {\n",
        "        'location': 2,\n",
        "    },\n",
        "    {\n",
        "        'location': 6,\n",
        "    },\n",
        "]\n",
        "trucks = [\n",
        "    {\n",
        "        'location': 1,\n",
        "        'load': 0,\n",
        "        'capacity': 1,\n",
        "        'charge level': 2,\n",
        "        'charge capacity': 10,\n",
        "    },\n",
        "    {\n",
        "        'location': 2,\n",
        "        'load': 0,\n",
        "        'capacity': 1,\n",
        "        'charge level': 2,\n",
        "        'charge capacity': 10,\n",
        "    },\n",
        "]\n",
        "\n",
        "num_time_steps = 40"
      ]
    },
    {
      "cell_type": "markdown",
      "metadata": {
        "id": "-vvHN8hgxUZJ"
      },
      "source": [
        "### Checking input assumptions\n",
        "\n",
        "We will only consider inputs that have the following properties:\n",
        "- no node is both a warehouse and a delivery location;\n",
        "- no node is both a warehouse and a charging location; and\n",
        "- no node is both a delivery and a charging location.\n",
        "\n",
        "This means that your solution only needs to work for inputs that satisfy these assumptions.\n",
        "\n",
        "The following code will check these assumptions, and throw an exception if they are not satisfied."
      ]
    },
    {
      "cell_type": "code",
      "execution_count": 4,
      "metadata": {
        "id": "KutfSMBzxUZJ"
      },
      "outputs": [],
      "source": [
        "### DO NOT CHANGE THIS CELL\n",
        "\n",
        "warehouse_locations = [\n",
        "    warehouse_info['location']\n",
        "    for warehouse_info in factories\n",
        "]\n",
        "truck_locations = [\n",
        "    truck_info['location']\n",
        "    for truck_info in trucks\n",
        "]\n",
        "delivery_locations = [\n",
        "    dp_info['location']\n",
        "    for dp_info in delivery_points\n",
        "]\n",
        "charging_locations = [\n",
        "    cp_info['location']\n",
        "    for cp_info in charging_points\n",
        "]\n",
        "\n",
        "class InvalidInputError(Exception):\n",
        "    pass\n",
        "\n",
        "intersection = [location for location in warehouse_locations if location in delivery_locations]\n",
        "if len(intersection) > 0:\n",
        "    raise InvalidInputError(f'node {intersection[0]} is both a warehouse and a delivery location')\n",
        "\n",
        "intersection = [location for location in warehouse_locations if location in charging_locations]\n",
        "if len(intersection) > 0:\n",
        "    raise InvalidInputError(f'node {intersection[0]} is both a warehouse and a charging location')\n",
        "\n",
        "intersection = [location for location in delivery_locations if location in charging_locations]\n",
        "if len(intersection) > 0:\n",
        "    raise InvalidInputError(f'node {intersection[0]} is both a delivery and a charging location')"
      ]
    },
    {
      "cell_type": "markdown",
      "metadata": {
        "id": "lq2VUaW1xUZK"
      },
      "source": [
        "## 5. Assignment: writing an ASP program for finding solutions\n",
        "\n",
        "Write down your encoding of the problem into ASP in cells in this section.\n",
        "Make sure to interleave your code cells with appropriate text/markdown cells where you explain what you are doing.\n",
        "\n",
        "In order to make the solution pretty-printing machinery in this notebook work, you should:\n",
        "- use a predicate `do/3` to capture what actions the trucks take\n",
        "  (where `do(T,Tr,A)` indicates that at time `T`, truck `Tr` takes action `A`); and\n",
        "- use a predicate `truck_at/2` to capture the initial state of the trucks\n",
        "  (where `truck_at(Tr,N)` indicates that the initial state of truck `Tr` is node `N`)."
      ]
    },
    {
      "cell_type": "markdown",
      "source": [
        "The cell below encodes the input into clingo."
      ],
      "metadata": {
        "id": "nHlO6NP3zLiM"
      }
    },
    {
      "cell_type": "code",
      "execution_count": 13,
      "metadata": {
        "id": "YMqbPPAaxUZK"
      },
      "outputs": [],
      "source": [
        "# Load example inputs \n",
        "asp_program = \"\"\n",
        "asp_program += f\"     #const t={num_time_steps}.\\n\"\n",
        "for node in nodes:\n",
        "  asp_program += f\"     node({node}).\\n\"\n",
        "\n",
        "for edge in edges:\n",
        "  asp_program += f\"     edge({edge[0]},{edge[1]}).\\n\"\n",
        "\n",
        "max_factory_load = 0\n",
        "for i, factory in enumerate(factories):\n",
        "  location = factory['location']\n",
        "  load = factory['load']\n",
        "  asp_program += f\"     factory_loc({location}).\\n\"\n",
        "  asp_program += f\"     factory_supply({location},{load}).\\n\"\n",
        "\n",
        "\n",
        "max_delivery_load = 0\n",
        "for d_point in delivery_points:\n",
        "  location = d_point['location']\n",
        "  demand = d_point['demand']\n",
        "  asp_program += f\"     delivery_point({location}).\\n\"\n",
        "  asp_program += f\"     delivery_asked({location},{demand}).\\n\"\n",
        "\n",
        "for c_point in charging_points:\n",
        "  location = c_point['location']\n",
        "  asp_program += f\"     charging_point({location}).\\n\"\n",
        "\n",
        "max_load_for_truck = 0\n",
        "for i, truck in enumerate(trucks):\n",
        "  location = truck['location']\n",
        "  load = truck['load']\n",
        "  load_capacity = truck['capacity']\n",
        "  current_level = truck['charge level']\n",
        "  c_capacity = truck['charge capacity']\n",
        "  asp_program += f\"     truck({i+1}, {load_capacity}, {c_capacity}).\\n\"\n",
        "  asp_program += f\"     truck_at({i+1},{location}).\\n\"\n",
        "  asp_program += f\"     cargo({i+1},{load}).\\n\"\n",
        "  asp_program += f\"     battery({i+1}, {current_level}).\\n\""
      ]
    },
    {
      "cell_type": "markdown",
      "source": [
        "The cell below defines the times and the possible actions. It also ensures that we perform one action at a time and that edges are undirected."
      ],
      "metadata": {
        "id": "qO2CYjj-zR4L"
      }
    },
    {
      "cell_type": "code",
      "source": [
        "asp_program += \"\"\"  \n",
        "    \n",
        "    % Generate time(1), time(2), ..., time(Max), till maximum number of time steps\n",
        "    possible_time(1..t).\n",
        "    { time(T) : possible_time(T) }.\n",
        "    :- not time(1). %first time step is time 1\n",
        "    :- possible_time(T), possible_time(T+1), not time(T), time(T+1). %times are sequential\n",
        "\n",
        "    % Store the last time step\n",
        "    max_time(MaxTime) :- MaxTime = #max { T : time(T) }.\n",
        "\n",
        "    % Edges are undirected\n",
        "    edge(X,Y) :- edge(Y,X).\n",
        "\n",
        "    % These are the possible actions that we can take\n",
        "    action(wait).\n",
        "    action(move(X,Y)) :- edge(X,Y).\n",
        "    action(load).\n",
        "    action(unload).\n",
        "    action(charge).\n",
        "\n",
        "    % We perform exactly one action at each time step\n",
        "    1 { do(T, Tr, A) : action(A) } 1 :- time(T), T<M, max_time(M),  truck(Tr,_,_).\n",
        "    \n",
        "    \"\"\""
      ],
      "metadata": {
        "id": "nG0eW59ezRV0"
      },
      "execution_count": 14,
      "outputs": []
    },
    {
      "cell_type": "markdown",
      "source": [
        "The cell below defines the initial state, what will be treated as fluent and the effects of each action."
      ],
      "metadata": {
        "id": "oaA5T3aszjGu"
      }
    },
    {
      "cell_type": "code",
      "source": [
        "asp_program += \"\"\"\n",
        "\n",
        "    % Define initial state\n",
        "    state(1, truck_at(Tr, Loc)) :- truck_at(Tr, Loc) .\n",
        "    state(1, battery(Tr, L)) :- battery(Tr, L).\n",
        "    state(1, cargo(Tr, P)) :- cargo(Tr, P).\n",
        "    state(1, delivery_asked(N, P)):- delivery_asked(N,P).\n",
        "    state(1, factory_supply(N, P)) :- factory_supply(N,P).\n",
        "  \n",
        "    % Create what will be treated as fluent\n",
        "    fluent(truck_at(Tr, Loc)) :- truck(Tr,_,_), node(Loc). \n",
        "    fluent(battery(Tr, 0..C)) :- truck(Tr, _, C). \n",
        "    fluent(cargo(Tr, 0..L)) :- truck(Tr, L, _).\n",
        "    fluent(factory_supply(F, 0..L)) :- state(1, factory_supply(F, L)).     \n",
        "    fluent(delivery_asked(Loc, 0..L)) :- state(1, delivery_asked(Loc, L)).   \n",
        "\n",
        "    % Fluent states stay true unless explicitly made false\n",
        "    state(T,Statement) :- time(T), fluent(Statement), state(T-1,Statement), not make_false(T,Statement).\n",
        "    % Fluent states that are explicitly made true, become true\n",
        "    state(T,Statement) :- time(T), fluent(Statement), make_true(T,Statement).\n",
        "\n",
        "    % Waiting does not change the state of the problem and thus has no effects\n",
        "    % Effect of moving\n",
        "    % 1. The truck changes place\n",
        "    make_true(T+1, truck_at(Tr, Y)) :- do(T, Tr, move(X,Y)).                               \n",
        "    make_false(T+1, truck_at(Tr, X)) :- do(T, Tr, move(X,Y)).\n",
        "    % 2. The truck loses battery\n",
        "    make_true(T+1, battery(Tr, B-1)) :- do(T, Tr, move(_,_)), state(T, battery(Tr, B)).      \n",
        "    make_false(T+1, battery(Tr, B)) :- do(T, Tr, move(_,_)), state(T, battery(Tr, B)).       \n",
        "\n",
        "    % Effect of loading\n",
        "    % 1. The truck increases its cargo\n",
        "    make_true(T+1, cargo(Tr, L+1)) :- do(T, Tr, load), state(T,cargo(Tr, L)).             \n",
        "    make_false(T+1, cargo(Tr, L)) :- do(T, Tr, load),  state(T,cargo(Tr, L)).    \n",
        "    % 2. The factory supply decreases         \n",
        "    make_true(T+1, factory_supply(F, L-1)) :- do(T, Tr, load), state(T, factory_supply(F, L)), state(T, truck_at(Tr, F)).     \n",
        "    make_false(T+1, factory_supply(F, L)) :- do(T, Tr, load), state(T, factory_supply(F, L)), state(T, truck_at(Tr, F)).      \n",
        "\n",
        "    % Effect of unloading\n",
        "    % 1. The truck decreases its cargo\n",
        "    make_true(T+1, cargo(Tr, L-1)) :- do(T, Tr, unload), state(T,cargo(Tr, L)).       \n",
        "    make_false(T+1, cargo(Tr, L)) :- do(T, Tr, unload), state(T,cargo(Tr, L)).\n",
        "    % 2. The delivery demand decreases\n",
        "    make_true(T+1, delivery_asked(X, L-1)) :- do(T, Tr, unload), state(T, delivery_asked(X, L)), state(T, truck_at(Tr, X)).   \n",
        "    make_false(T+1, delivery_asked(X, L)) :- do(T, Tr, unload), state(T, delivery_asked(X, L)), state(T, truck_at(Tr, X)).    \n",
        "\n",
        "    % Effect of charging\n",
        "    % The truck increases its battery\n",
        "    make_true(T+1, battery(Tr, B+1)) :- do(T, Tr, charge), state(T, battery(Tr, B)).   \n",
        "    make_false(T+1, battery(Tr, B)) :- do(T, Tr, charge), state(T, battery(Tr, B)).       \n",
        "    \n",
        "  \n",
        "\"\"\""
      ],
      "metadata": {
        "id": "YTif_Ev1zsbT"
      },
      "execution_count": 15,
      "outputs": []
    },
    {
      "cell_type": "markdown",
      "source": [
        "The cell below defines all the needed constraints."
      ],
      "metadata": {
        "id": "ogkjJBhqzyqi"
      }
    },
    {
      "cell_type": "code",
      "source": [
        "asp_program += \"\"\"\n",
        "\n",
        "    % Constraints regarding moving\n",
        "    % Cannot move from a node to another if the truck is not at that node\n",
        "    :- do(T, Tr, move(X,_)), state(T, truck_at(Tr, Z)), Z!=X.\n",
        "    % Cannot have two trucks at the same node\n",
        "    :- state(T, truck_at(Tr1, Y)), state(T, truck_at(Tr2, Y)), Tr1!=Tr2.\n",
        "    % Trucks cannot pass each other on a piece of road—e.g., trucks at adjacent locations cannot swap places in a single time step.\n",
        "    :- do(T, Tr1, move(X1,Y1)), do(T, Tr2, move(X2,Y2)), Tr1 != Tr2, X1=Y2, Y1=X2.\n",
        "    % Cannot move when battery is empty\n",
        "    :- do(T, Tr, move(_,_)), state(T, battery(Tr, 0)). \n",
        "\n",
        "    % Constraints regarding loading\n",
        "    % Cannot load if not at factory\n",
        "    :- do(T, Tr, load), state(T, truck_at(Tr, Loc)), not factory_loc(Loc). \n",
        "    % Cannot load if the factory is empty\n",
        "    :- do(T, Tr, load), state(T, truck_at(Tr, Loc)), state(T, factory_supply(Loc, 0)).\n",
        "    % Cannot load when truck has reached load capacity \n",
        "    :- do(T, Tr, load), state(T, cargo(Tr,L)), truck(Tr,LC,_), L>=LC.\n",
        "\n",
        "    % truck unloading\n",
        "    % Cannot unload if not at delivery point\n",
        "    :- do(T, Tr, unload), state(T, truck_at(Tr, Loc)), not delivery_point(Loc).\n",
        "    % Cannot unload when truck load is 0\n",
        "    :- do(T, Tr, unload),  state(T, cargo(Tr, 0)).\n",
        "    % Cannot unload if the demand is 0\n",
        "    :- do(T, Tr, unload), state(T, truck_at(Tr, Loc)), state(T, delivery_asked(Loc, 0)).\n",
        "\n",
        "    %charging\n",
        "    % Cannot charge if truck is not in charging location\n",
        "    :- do(T, Tr, charge),  state(T, truck_at(Tr, Loc)), not charging_point(Loc).\n",
        "    % Cannot charge when battery is full\n",
        "    :- do(T,Tr, charge), state(T, battery(Tr, B)), truck(Tr,_,C), B>=C.    \n",
        "    \n",
        "    % Make sure there is always enough battery to reach a charging point \n",
        "    :- state(T, truck_at(Tr, X)), state(T, battery(Tr, B)), charging_point_dist(X, PD), B<PD, truck(Tr,_,_), time(T).    \n",
        "      \n",
        "\"\"\""
      ],
      "metadata": {
        "id": "CYJR6LZiz3tQ"
      },
      "execution_count": 16,
      "outputs": []
    },
    {
      "cell_type": "markdown",
      "source": [
        "The cell below defines how to find the shortest paths between nodes, the goal state and how to reach it."
      ],
      "metadata": {
        "id": "oIzYtsh6z6b-"
      }
    },
    {
      "cell_type": "code",
      "source": [
        "asp_program += \"\"\"\n",
        "    % All possible distances, maximum distance is equal to the number of nodes \n",
        "    distance(0..D) :- D = #max { N : node(N) }.\n",
        "    % Shortest sequence from a node to itself is 0\n",
        "    shortest_seq(X,X,0) :- node(X).\n",
        "    % Shortest sequence from a node to an adjacent node is 1\n",
        "    shortest_seq(X,Y,1) :- edge(X,Y).\n",
        "    %* Shortest sequence from a node to another = (distance between the first node and the node\n",
        "    before the last one) + 1. This is true given that the last node has an edge to the previous node and that there is no\n",
        "    shorter sequence connecting the first and last nodes *% \n",
        "    shortest_seq(X, Y, D+1) :- distance(D+1), shortest_seq(X, Z, D), edge(Z,Y),\n",
        "                                not shortest_seq(X,Y, DMin) : distance(DMin), D>=DMin.\n",
        "    % Finds the shortest sequence to reach a charging point\n",
        "    charging_point_dist(X, PD) :- node(X), PD = #min{ D : shortest_seq(X,Y,D), charging_point(Y)}.\n",
        "\n",
        "    % Truck is parked at a charging point\n",
        "    truck_parked(T, Tr) :- state(T, truck_at(Tr, Loc)), charging_point(Loc).\n",
        "\n",
        "    % Goal is reached when all trucks are parked (at a charging point), all deliveries are made and all trucks carry no cargo\n",
        "    goal_reached(T) :- time(T),\n",
        "          truck_parked(T,Tr) : truck(Tr,_,_);\n",
        "          state(T, delivery_asked(Loc, 0)): delivery_point(Loc);\n",
        "          state(T, cargo(Tr, 0)) : truck(Tr,_,_).\n",
        "\n",
        "    % Require that we reach the goal at the end\n",
        "    :- not goal_reached(M), max_time(M).\n",
        "    % Once we reached the goal, stop the clock\n",
        "    :- max_time(M), goal_reached(T), time(T), T<M.\n",
        "\n",
        "    %% Find the shortest sequence\n",
        "    #minimize { 1,T : time(T) }.\n",
        "    \n",
        "\"\"\""
      ],
      "metadata": {
        "id": "ghOcMnCW0G-g"
      },
      "execution_count": 17,
      "outputs": []
    },
    {
      "cell_type": "markdown",
      "metadata": {
        "id": "wTWMrvrnxUZL"
      },
      "source": [
        "## 6. Finding and outputting solutions\n",
        "\n",
        "The following cell contains some code that will be used to find (optimal) answer sets for your ASP program, to translate this to a solution for the planning problem, and to display this solution in a human-readable format.\n",
        "\n",
        "You don't need to finish or change this cell in your solution."
      ]
    },
    {
      "cell_type": "code",
      "execution_count": 18,
      "metadata": {
        "scrolled": false,
        "id": "BcG6gfWTxUZL"
      },
      "outputs": [],
      "source": [
        "### DO NOT CHANGE THIS CELL\n",
        "\n",
        "# Some machinery to (dynamically) print things in the notebook\n",
        "log_str = \"\"\n",
        "def reset_log():\n",
        "    global log_str\n",
        "    log_str = \"\"\n",
        "def log(msg):\n",
        "    global log_str\n",
        "    print(msg, flush=True)\n",
        "    log_str += f\"{msg}\\n\"\n",
        "def print_log():\n",
        "    global log_str\n",
        "    print(log_str, end='', flush=True)\n",
        "    \n",
        "def display_solution(model):\n",
        "    \"\"\"\n",
        "    Displays a solution specified by the answer set\n",
        "    in a human-readable format.\n",
        "    \n",
        "    Assumes that the answer set program uses do/3\n",
        "    to specify actions, and uses truck_at/2 to\n",
        "    specify the initial locations of the trucks.\n",
        "    \"\"\"\n",
        "    actions = {}\n",
        "    truck_locations = {}\n",
        "    for atom in model.symbols(atoms=True):\n",
        "        if atom.name == \"do\":\n",
        "            time = atom.arguments[0].number\n",
        "            truck = str(atom.arguments[1])\n",
        "            action = str(atom.arguments[2])\n",
        "            if time not in actions:\n",
        "                actions[time] = {}\n",
        "            actions[time][truck] = action\n",
        "        elif atom.name == \"truck_at\":\n",
        "            truck_locations[str(atom.arguments[0])] = str(atom.arguments[1])\n",
        "    solution_str = \"\\n\"\n",
        "    solution_str += \" \"*5 + \"\".join([\n",
        "        f\"{truck:<5} @ {truck_locations[truck]:<10}\"\n",
        "        for truck in sorted(truck_locations)\n",
        "    ]) + \"\\n\"\n",
        "    solution_str += \"-\"*(5+18*len(truck_locations)) + \"\\n\"\n",
        "    for time in sorted(actions):\n",
        "        time_str = f\"{time}:\"\n",
        "        solution_str += f\"{time_str:<4} \" + \"\".join([\n",
        "            f\"{actions[time][truck]:<18}\"\n",
        "            for truck in sorted(truck_locations)\n",
        "        ]) + \"\\n\"\n",
        "    return solution_str\n",
        "\n",
        "def find_and_output_solution(\n",
        "    asp_program,\n",
        "    timeout=10,\n",
        "    num_threads=1,\n",
        "):\n",
        "    \"\"\"\n",
        "    Calls the ASP solver to find answer sets,\n",
        "    and translates these to solutions,\n",
        "    which are printed in human-readable format.\n",
        "    \"\"\"\n",
        "\n",
        "    reset_log()\n",
        "    log(\"..Grounding..\")\n",
        "    \n",
        "    control = clingo.Control([f\"--parallel-mode={num_threads}\"])\n",
        "    control.add(\"base\", [], asp_program)\n",
        "    control.ground([(\"base\", [])])\n",
        "\n",
        "    control.configuration.solve.models = 1\n",
        "    control.configuration.solve.opt_mode = \"optN\"\n",
        "    \n",
        "    def interpret_model(model):\n",
        "        clear_output(wait=True)\n",
        "        print_log()\n",
        "        print(display_solution(model))\n",
        "\n",
        "    if timeout > 0:\n",
        "        log(f\"..Solving with timeout {timeout}s..\")\n",
        "        with control.solve(\n",
        "            async_=True,\n",
        "            on_model=lambda model: interpret_model(model),\n",
        "        ) as handle:\n",
        "            finished = handle.wait(timeout)\n",
        "            if not finished:\n",
        "                log(\"..Stopped after timeout..\")\n",
        "            else:\n",
        "                log(\"..Stopped..\")\n",
        "                time = control.statistics['summary']['times']['total']\n",
        "                log(f\"..Total solving time: {time:.2f} seconds..\")\n",
        "    else:\n",
        "        log(\"..Solving..\")\n",
        "        control.solve(\n",
        "            on_model=lambda model: interpret_model(model),\n",
        "        )\n",
        "        log(\"..Stopped..\")\n",
        "        time = control.statistics['summary']['times']['total']\n",
        "        log(f\"..Total solving time: {time:.2f} seconds..\")"
      ]
    },
    {
      "cell_type": "markdown",
      "metadata": {
        "id": "yd4Nnv63xUZM"
      },
      "source": [
        "## 7. For your convenience: visualizing (part of) the input\n",
        "\n",
        "For your (and our) convenience, let's visualize the input to the problem. The road network will be displayed as a graph. Nodes with a warehouse are blue. Nodes with a delivery location are green. Nodes with a charging point are purple. All other nodes are red. Nodes where there is a truck initially are labelled with \"T\".\n",
        "\n",
        "Note that this doesn't display all the information about the input. For example, the truck (maximum) battery level and (maximum) load is not displayed, and neither is the load/demand of the warehouses and delivery locations."
      ]
    },
    {
      "cell_type": "code",
      "execution_count": 19,
      "metadata": {
        "id": "UVNropUPxUZN",
        "outputId": "10bfccd0-bd1e-42f6-bcc1-68ce039c2fca",
        "colab": {
          "base_uri": "https://localhost:8080/",
          "height": 441
        }
      },
      "outputs": [
        {
          "output_type": "display_data",
          "data": {
            "text/plain": [
              "<Figure size 576x432 with 1 Axes>"
            ],
            "image/png": "[encoded data removed]"
          },
          "metadata": {}
        }
      ],
      "source": [
        "### NO NEED TO CHANGE THIS CELL\n",
        "### (UNLESS THE IMAGE DOESN'T SHOW WELL FOR SOME INPUT YOU ARE USING)\n",
        "\n",
        "plt.rcParams[\"figure.autolayout\"] = True\n",
        "plt.rcParams[\"figure.figsize\"] = (8, 6)\n",
        "graph = nx.Graph()\n",
        "\n",
        "ax = plt.gca()\n",
        "ax.margins(0.08)\n",
        "\n",
        "options = {\n",
        "    \"edgecolors\": \"tab:gray\",\n",
        "    \"node_size\": 2000,\n",
        "    \"font_color\": \"white\",\n",
        "    \"font_size\": 14,\n",
        "}\n",
        "graph.add_nodes_from(nodes)\n",
        "graph.add_edges_from(edges)\n",
        "layout = nx.spring_layout(graph, seed=42)\n",
        "\n",
        "labels = {\n",
        "    node:\n",
        "    (f\"{node} T\" if node in truck_locations else f\"{node}\")\n",
        "    for node in nodes\n",
        "}\n",
        "\n",
        "def node_color(node):\n",
        "    if node in warehouse_locations:\n",
        "        return \"tab:blue\"\n",
        "    elif node in delivery_locations:\n",
        "        return \"tab:green\"\n",
        "    elif node in charging_locations:\n",
        "        return \"tab:purple\"\n",
        "    else:\n",
        "        return \"tab:red\"\n",
        "colors = [\n",
        "    node_color(node)\n",
        "    for node in nodes\n",
        "]\n",
        "\n",
        "nx.draw(\n",
        "    graph,\n",
        "    layout,\n",
        "    ax=ax,\n",
        "    node_color=colors,\n",
        "    labels=labels,\n",
        "    with_labels=True,\n",
        "    **options\n",
        ")\n",
        "\n",
        "plt.show()"
      ]
    },
    {
      "cell_type": "markdown",
      "metadata": {
        "id": "o7SCF7LkxUZO"
      },
      "source": [
        "## 8. Finding and representing solutions\n",
        "\n",
        "Finally, let's call the solver and display the solution that it might find.\n",
        "\n",
        "Note that it will display a solution when it finds one, even if it then keeps searching for a better solution. Subsequent better (shorter) solutions will then be displayed, always displaying only the current best solution. Finally, after the solving stopped (possibly due to a time out), it will display \"..Stopped..\" below the best found solution."
      ]
    },
    {
      "cell_type": "code",
      "execution_count": 20,
      "metadata": {
        "scrolled": true,
        "id": "-AY9MA9dxUZO",
        "outputId": "e29dba8c-6af8-4fa4-f79c-bbf750c209fb",
        "colab": {
          "base_uri": "https://localhost:8080/"
        }
      },
      "outputs": [
        {
          "output_type": "stream",
          "name": "stdout",
          "text": [
            "..Grounding..\n",
            "..Solving..\n",
            "\n",
            "     1     @ 1         2     @ 2         \n",
            "-----------------------------------------\n",
            "1:   load              charge            \n",
            "2:   move(1,2)         move(2,6)         \n",
            "3:   charge            charge            \n",
            "4:   charge            charge            \n",
            "5:   charge            charge            \n",
            "6:   charge            charge            \n",
            "7:   charge            charge            \n",
            "8:   charge            charge            \n",
            "9:   move(2,3)         move(6,2)         \n",
            "10:  move(3,4)         move(2,1)         \n",
            "11:  move(4,5)         load              \n",
            "12:  unload            move(1,2)         \n",
            "13:  move(5,4)         move(2,6)         \n",
            "14:  move(4,3)         charge            \n",
            "15:  move(3,2)         charge            \n",
            "16:  charge            charge            \n",
            "17:  charge            move(6,3)         \n",
            "18:  move(2,1)         move(3,4)         \n",
            "19:  load              unload            \n",
            "20:  move(1,2)         move(4,3)         \n",
            "21:  move(2,6)         move(3,2)         \n",
            "22:  charge            move(2,1)         \n",
            "23:  charge            load              \n",
            "24:  charge            move(1,2)         \n",
            "25:  charge            wait              \n",
            "26:  charge            charge            \n",
            "27:  charge            charge            \n",
            "28:  move(6,3)         charge            \n",
            "29:  move(3,4)         move(2,3)         \n",
            "30:  move(4,5)         move(3,4)         \n",
            "31:  unload            unload            \n",
            "32:  move(5,4)         move(4,3)         \n",
            "33:  move(4,3)         move(3,6)         \n",
            "34:  move(3,2)         charge            \n",
            "\n",
            "..Stopped..\n",
            "..Total solving time: 79.69 seconds..\n"
          ]
        }
      ],
      "source": [
        "### NO NEED TO CHANGE THIS CELL\n",
        "### (UNLESS YOU WANT TO SET A SOLVING TIMEOUT\n",
        "###  OR USE A DIFFERENT NUMBER OF PARALLEL THREADS)\n",
        "\n",
        "find_and_output_solution(\n",
        "    asp_program,\n",
        "    timeout=0,\n",
        "    num_threads=4,\n",
        ")"
      ]
    }
  ],
  "metadata": {
    "kernelspec": {
      "display_name": "Python 3 (ipykernel)",
      "language": "python",
      "name": "python3"
    },
    "language_info": {
      "codemirror_mode": {
        "name": "ipython",
        "version": 3
      },
      "file_extension": ".py",
      "mimetype": "text/x-python",
      "name": "python",
      "nbconvert_exporter": "python",
      "pygments_lexer": "ipython3",
      "version": "3.9.12"
    },
    "colab": {
      "provenance": []
    },
    "gpuClass": "standard"
  },
  "nbformat": 4,
  "nbformat_minor": 0
}